{
 "cells": [
  {
   "cell_type": "markdown",
   "metadata": {},
   "source": [
    "# Book Directory "
   ]
  },
  {
   "cell_type": "markdown",
   "metadata": {},
   "source": [
    "## Description:\n",
    "Book Directory is an interactive book list that allows users to store books information in list organized using different identifiers which are:\n",
    " - Name of the book \n",
    " - Name of the Author \n",
    " - Year Published\n",
    " - ISBN of the book\n",
    " \n",
    "The graphical interface allows the user to interact with the data without understanding how the code behind the GUI works. The interface includes 4 entry boxes indicated by labels where user can input their set of 4 identifiers mentioned above to add create a completed book feature into the directory for later use. \n",
    "\n",
    "The buttons that allow the user to interact with the directory are:\n",
    "- `View All`\n",
    "    - Shows the whole directory sorted by order of entry in the list when pressed `View All`.\n",
    "- `Search Entry`\n",
    "    - If a complete version of search description is inputted into any of the entry boxes, the query will display if it exists when pressed `Search Entry`. \n",
    "    - If the input in any of entry boxes are a incomplete version of the correct entry the user is looking for the search function will not be able to find it. \n",
    "\n",
    "- `Add Entry`\n",
    "    - After inputting the book identifiers, pressing the `Add Entry` adds to the query. \n",
    "    - Updated list will be shown after `View All` is pressed again. \n",
    "    \n",
    "- `Update Selected`\n",
    "    - If any of the book identifiers need to be updated. Pull up the query using search entry or view all directory to bring up the book. Then change any information needed to be changed. `Update Selected` will update the row with the newly changed information within the directory. \n",
    "    - Updated row will be shown after `View All` is pressed again or searched for directly. \n",
    "    \n",
    "- `Delete Selected`\n",
    "    - If any rows need to be deleted. Pull up the book using the selection from View All or search for the book and simply press `Delete Selected` to delete the query. \n",
    "    - Updated list will be shown after `View All` is pressed again. \n",
    "    \n",
    "- `Close`\n",
    "    - To close the program, press `Close`\n",
    "    \n",
    "    \n",
    "The backend of this project utilized Tkinter which is a GUI library created for python that gave this program a interactive look with buttons and entry boxes. \n",
    "\n",
    "The data entered in entry boxes, retrival of book, and commands for each button was intergrated with SQLite3 to   store data and interact with the data based on the buttons pressed. \n"
   ]
  },
  {
   "cell_type": "markdown",
   "metadata": {},
   "source": [
    "### Error Catching: \n",
    "\n",
    "Some Exceptions would come up when instead of clicking on the search boxes. This would happen when double clicking in any entry boxes after a book was selected from the list and it's identifiers were shown in each entry box. \n",
    "\n",
    "To fix this, a try and catch block was utilizied to catch the `IndexError` and `UnboundLocalError` wihtout the program crashing. This fixed all the issues and the program runs fine after double clicking.  \n",
    "\n",
    "This error would be created as the first click would select the tuple as whole in the entry box, but if double clicked the selected tuple would be the interior selected word even tho the index is set to `index = self.list_box.curselection()[0]` which was designed only to get the entry box and not single words inside them. \n",
    "\n"
   ]
  },
  {
   "cell_type": "code",
   "execution_count": 5,
   "metadata": {},
   "outputs": [],
   "source": [
    "    def get_selected_row(self, event):\n",
    "        # used to get tuples with of info based on category\n",
    "        global selected_tuple\n",
    "\n",
    "        # throws exception if double clicked on entry box\n",
    "        try:\n",
    "            # tries to get index and tuple\n",
    "            index = self.list_box.curselection()[0]\n",
    "            selected_tuple=self.list_box.get(index)\n",
    "\n",
    "        # catches errors resulting from double clicking\n",
    "        except IndexError:\n",
    "            pass\n",
    "        except UnboundLocalError:\n",
    "            pass"
   ]
  },
  {
   "cell_type": "markdown",
   "metadata": {},
   "source": [
    "### RunFile.py\n",
    "To run the program, a RunFile has been created which has the GuiController imported in order to run from `my_module` directory. "
   ]
  },
  {
   "cell_type": "markdown",
   "metadata": {},
   "source": [
    "### Test Cases:\n",
    "\n",
    "A TestCase file has been created to test connection to newly created database called `test.db`. \n",
    "Function used in TestCase is the same function used in `DbConnection` to connect to `books.db` file to retrieve and interact with the database. \n",
    "\n",
    "This test is designed to call that function to create a sqlite3 database file to check it's functionality. \n",
    "If the database exists after running the function, program will print \"File created and file will be deleted for the next check\". Reason for the deletion of the file after confirming it was created, is to make sure the file is created every time the test script is ran and is not only checking for an existing file. \n",
    "\n",
    "#### Since this program utilizes a GUI interface and SQLite database testing it's functionality would have been pretty time consuming and difficult. I was directed by Tom to create this test file to check the function instead of checking my actual file since books.db is preloaded with books to display all the functions are working.\n"
   ]
  },
  {
   "cell_type": "markdown",
   "metadata": {},
   "source": [
    "## Check out my project on GitHub!!\n"
   ]
  }
 ],
 "metadata": {
  "kernelspec": {
   "display_name": "Python 3",
   "language": "python",
   "name": "python3"
  },
  "language_info": {
   "codemirror_mode": {
    "name": "ipython",
    "version": 3
   },
   "file_extension": ".py",
   "mimetype": "text/x-python",
   "name": "python",
   "nbconvert_exporter": "python",
   "pygments_lexer": "ipython3",
   "version": "3.7.0"
  }
 },
 "nbformat": 4,
 "nbformat_minor": 2
}
